{
 "cells": [
  {
   "cell_type": "code",
   "execution_count": 5,
   "metadata": {},
   "outputs": [
    {
     "name": "stdout",
     "output_type": "stream",
     "text": [
      "Digite uma mensagem: agro é POP\n",
      "Digite o número de vezes que essa mensagem será enviada: 12\n",
      "Digite o nome do contato a quem você enviará a mensagem: mana\n"
     ]
    },
    {
     "data": {
      "text/plain": [
       "'OK'"
      ]
     },
     "execution_count": 5,
     "metadata": {},
     "output_type": "execute_result"
    }
   ],
   "source": [
    "# importando as biblotecas:\n",
    "import pyautogui  # faz a automação do mouse e do teclado\n",
    "import pyperclip # permite a função de copiar e colar com o Python\n",
    "import time # controla o tempo do nosso programa\n",
    "\n",
    "mensagem = str(input('Digite uma mensagem: '))\n",
    "times = int(input('Digite o número de vezes que essa mensagem será enviada: '))\n",
    "contato = str(input('Digite o nome do contato a quem você enviará a mensagem: '))\n",
    "\n",
    "cont = 0\n",
    "\n",
    "# abre uma nova guia do Google Chrome:\n",
    "pyautogui.hotkey(\"ctrl\", \"t\")\n",
    "\n",
    "# esperar 2 segundos:\n",
    "time.sleep(2)\n",
    "\n",
    "# copiar o link do WhatsappWeb:\n",
    "pyperclip.copy('https://web.whatsapp.com/')\n",
    "    \n",
    "# cola na busca do Google o link copiado acima:\n",
    "pyautogui.hotkey(\"ctrl\", \"v\")\n",
    "\n",
    "# espera 2 segundos:\n",
    "time.sleep(2)\n",
    "    \n",
    "# clica em \"enviar\" para buscar o link:\n",
    "pyautogui.press(\"enter\")\n",
    "    \n",
    "# tempo (30 segundos) para se colocar o código QRcode do celular para abrir em sua conta do Whatsapp:\n",
    "time.sleep(30)\n",
    "    \n",
    "# seleciona a caixa de pesquisa utilizando o tab:\n",
    "pyautogui.press(\"tab\")\n",
    "\n",
    "# espera 1 segundo:\n",
    "time.sleep(1)\n",
    "    \n",
    "# copia (ctrl+c) e cola (ctrl+v) na caixa de pesquisa do Whatsapp o nome do contato informado:\n",
    "pyperclip.copy(contato)\n",
    "pyautogui.hotkey(\"ctrl\", \"v\")\n",
    "\n",
    "# espera 3 segundos:\n",
    "time.sleep(3)\n",
    "\n",
    "# pressiona tab para selecionar o contato:\n",
    "pyautogui.press(\"tab\")\n",
    "\n",
    "# clica na barra de digitar:\n",
    "pyautogui.press(\"enter\")\n",
    "\n",
    "while cont != times:\n",
    "    \n",
    "# espera 3 segundos:\n",
    "    time.sleep(3)\n",
    "\n",
    "# efetua mais um ctrl+c e ctrl+v na mensagem acima: \n",
    "    pyperclip.copy(mensagem) \n",
    "    pyautogui.hotkey(\"ctrl\", \"v\") \n",
    "\n",
    "# espera 2 segundos:\n",
    "    time.sleep(2)\n",
    "    \n",
    "# pressiona enter: \n",
    "    pyautogui.press(\"enter\")\n",
    "    \n",
    "# esperar 1 segundo:\n",
    "    time.sleep(1)\n",
    "    \n",
    "# contador/incremento:\n",
    "    cont = cont + 1\n",
    "    \n",
    "pyautogui.alert(' Programa executado com sucesso!')"
   ]
  },
  {
   "cell_type": "code",
   "execution_count": 6,
   "metadata": {},
   "outputs": [
    {
     "data": {
      "text/plain": [
       "Point(x=1180, y=10)"
      ]
     },
     "execution_count": 6,
     "metadata": {},
     "output_type": "execute_result"
    }
   ],
   "source": [
    "# abaixo vemos como descobrir a posição de algum objeto:\n",
    "\n",
    "time.sleep(5)\n",
    "pyautogui.position()"
   ]
  }
 ],
 "metadata": {
  "kernelspec": {
   "display_name": "Python 3",
   "language": "python",
   "name": "python3"
  },
  "language_info": {
   "codemirror_mode": {
    "name": "ipython",
    "version": 3
   },
   "file_extension": ".py",
   "mimetype": "text/x-python",
   "name": "python",
   "nbconvert_exporter": "python",
   "pygments_lexer": "ipython3",
   "version": "3.8.5"
  }
 },
 "nbformat": 4,
 "nbformat_minor": 4
}
