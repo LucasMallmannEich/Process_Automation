{
 "cells": [
  {
   "cell_type": "code",
   "execution_count": 168,
   "metadata": {
    "scrolled": true
   },
   "outputs": [],
   "source": [
    "# LEITURA DO EXCEL E CAPTAÇÃO DOS DADOS:\n",
    "\n",
    "import pandas as pd  # importar a biblioteca pandas é necessário para o manuseio de tabelas do Excel\n",
    "\n",
    "arquivo = pd.read_excel(r\"C:\\Users\\Lucas\\Documents\\Arquivo das Vendas.xlsx\")  # abrindo o arquivo excel que contém as vendas\n",
    "\n",
    "qtd_produtos = arquivo['Quantidade'].sum()  # a soma dos valores da coluna \"Quantidade\"\n",
    "faturamento = arquivo['Valor Final'].sum()  # a soma dos valores da coluna \"Valor Final\"\n",
    "media_gasto_consumidor = faturamento / len(arquivo['Código Venda'])  # o total gasto pelos consumidores / número de consumidores"
   ]
  },
  {
   "cell_type": "code",
   "execution_count": null,
   "metadata": {},
   "outputs": [],
   "source": [
    "# ESCRITA DO E-MAIL COM OS DADOS OBTIDOS:\n",
    "\n",
    "import pyautogui  # controlar o mouse e o teclado\n",
    "import time  # controlar o intervalo de tempo entre um comando e outro\n",
    "import pyperclip  # habilitar o mecanismo de copiar algum texto\n",
    "\n",
    "# recebimento do e-mail do destinatário pelo usuário\n",
    "cont = 0\n",
    "num_destinatarios = int(input('Digite quantas destinatários terá o e-mail: '))\n",
    "lista = []\n",
    "\n",
    "while cont != num_destinatarios:\n",
    "    lista.append(str(input(f'Digite o email, da forma correta, de quem será o {cont+1}º destinatário da carta eletrônica: ')))\n",
    "    cont = cont + 1\n",
    "    \n",
    "# escrita do e-mail\n",
    "assunto = 'Dados das Vendas em Dezembro'\n",
    "texto = f'''\n",
    "Prezado senhor(a), bom dia. \n",
    "\n",
    "Em relação às vendas do mês de Dezembro, temos que:\n",
    "\n",
    "- O faturamento foi de: R$ {faturamento:.2f}.\n",
    "- A quantidade de produtos vendidos foi de: {qtd_produtos}.\n",
    "- A média que cada consumidor gastou foi de: R$ {media_gasto_consumidor:.2f}\n",
    "'''\n",
    "\n",
    "# loop até todos os desnitários terem sido contatados\n",
    "\n",
    "for destinatario in lista:\n",
    "    time.sleep(1)  # espera 1 segundo\n",
    "    pyautogui.hotkey('ctrl', 't')  # abre uma nova guia no Google Chrome\n",
    "    time.sleep(3)  # espera 3 segundos\n",
    "    pyperclip.copy('https://mail.google.com/mail')  # copia o link do Gmail\n",
    "    pyautogui.hotkey('ctrl', 'v')  # cola o link do Gmail copiado acima\n",
    "    pyautogui.press('enter')  # clica \"enter\"\n",
    "    time.sleep(10)  # espera 10 segundos\n",
    "    pyautogui.click(140, 288)  # clica sobre a caixa de \"Escrever\", no site do Gmail\n",
    "    time.sleep(5)  # espera 5 segundos \n",
    "    pyperclip.copy(destinatario)  # copia o destinatário do e-mail\n",
    "    pyautogui.hotkey('ctrl', 'v')  # cola o destinatário\n",
    "    time.sleep(1)  # espera 1 segundo\n",
    "    pyautogui.press('tab')  # pressiona a tecla \"tab\", para assim, o programa ir para a próxima caixa de texto, o assunto\n",
    "    pyperclip.copy(assunto)  # copia o assunto do e-mail\n",
    "    pyautogui.hotkey('ctrl', 'v')  # cola o assunto do e-mail\n",
    "    time.sleep(2)  # espera 2 segundos\n",
    "    pyautogui.press('tab')  # pressiona a tecla \"tab\", para assim, o programa ir para a próxima caixa de texto, o e-mail em si\n",
    "    pyperclip.copy(texto)  # copia o texto principal do e-mail\n",
    "    pyautogui.hotkey('ctrl', 'v')  # cola o texto principal do e-mail\n",
    "    time.sleep(2)  # espera 2 segundos\n",
    "    pyautogui.press('tab')  # pressiona a tecla \"tab\", para assim, o programa ir para o botão \"Enviar\"\n",
    "    pyautogui.press('enter')  # pressiona a tecla \"enter\", para assim enviar o e-mail ao destinatário escolhido previamente pelo usuário do código\n",
    "    time.sleep(3)  # espera 3 segundos\n",
    "    pyautogui.hotkey('ctrl', 'w')  # sai do Gmail\n",
    "    \n",
    "pyautogui.alert('E-mail(s) enviado(s) com sucesso!')  # alerta ao usuário que o e-mail foi enviado com sucesso e que o programa se encerrou"
   ]
  },
  {
   "cell_type": "code",
   "execution_count": null,
   "metadata": {},
   "outputs": [],
   "source": [
    "# VERIFICA A POSIÇÃO DE ALGUM ELEMENTO NO MONITOR DO COMPUTADOR, NOTEBOOK OU PC\n",
    "\n",
    "import pyautogui\n",
    "import time\n",
    "\n",
    "time.sleep(5)\n",
    "print(pyautogui.position())"
   ]
  },
  {
   "cell_type": "code",
   "execution_count": null,
   "metadata": {},
   "outputs": [],
   "source": []
  }
 ],
 "metadata": {
  "kernelspec": {
   "display_name": "Python 3",
   "language": "python",
   "name": "python3"
  },
  "language_info": {
   "codemirror_mode": {
    "name": "ipython",
    "version": 3
   },
   "file_extension": ".py",
   "mimetype": "text/x-python",
   "name": "python",
   "nbconvert_exporter": "python",
   "pygments_lexer": "ipython3",
   "version": "3.8.5"
  }
 },
 "nbformat": 4,
 "nbformat_minor": 4
}
